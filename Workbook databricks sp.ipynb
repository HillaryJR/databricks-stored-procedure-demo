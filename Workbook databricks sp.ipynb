{
 "cells": [
  {
   "cell_type": "markdown",
   "metadata": {
    "application/vnd.databricks.v1+cell": {
     "cellMetadata": {},
     "inputWidgets": {},
     "nuid": "8249ee81-4be2-4d11-8bda-44def0b1c546",
     "showTitle": false,
     "tableResultSettingsMap": {},
     "title": ""
    }
   },
   "source": [
    "### Databricks Stored Procedure Example"
   ]
  },
  {
   "cell_type": "code",
   "execution_count": 0,
   "metadata": {
    "application/vnd.databricks.v1+cell": {
     "cellMetadata": {
      "byteLimit": 2048000,
      "implicitDf": true,
      "rowLimit": 10000
     },
     "inputWidgets": {},
     "nuid": "ceeef728-ca41-4b4b-9573-e9a4909414bd",
     "showTitle": false,
     "tableResultSettingsMap": {},
     "title": ""
    }
   },
   "outputs": [
    {
     "output_type": "display_data",
     "data": {
      "application/vnd.databricks.empty-table+json": {
       "directive_name": "NoDirective"
      }
     },
     "metadata": {},
     "output_type": "display_data"
    }
   ],
   "source": [
    "%sql\n",
    "CREATE PROCEDURE dev_catalog.bronze.calc_sum(\n",
    "  IN a INT, \n",
    "  IN b INT, \n",
    "  OUT sum INT, \n",
    "  INOUT total INT\n",
    ") \n",
    "LANGUAGE SQL \n",
    "SQL SECURITY INVOKER\n",
    "AS\n",
    "BEGIN\n",
    "  SET sum = a + b;\n",
    "  SET total = total + sum;\n",
    "END;\n"
   ]
  },
  {
   "cell_type": "code",
   "execution_count": 0,
   "metadata": {
    "application/vnd.databricks.v1+cell": {
     "cellMetadata": {
      "byteLimit": 2048000,
      "implicitDf": true,
      "rowLimit": 10000
     },
     "inputWidgets": {},
     "nuid": "3672d083-27b0-4f3f-99fa-8051eaa0239e",
     "showTitle": false,
     "tableResultSettingsMap": {},
     "title": ""
    }
   },
   "outputs": [
    {
     "output_type": "display_data",
     "data": {
      "text/html": [
       "<style scoped>\n",
       "  .table-result-container {\n",
       "    max-height: 300px;\n",
       "    overflow: auto;\n",
       "  }\n",
       "  table, th, td {\n",
       "    border: 1px solid black;\n",
       "    border-collapse: collapse;\n",
       "  }\n",
       "  th, td {\n",
       "    padding: 5px;\n",
       "  }\n",
       "  th {\n",
       "    text-align: left;\n",
       "  }\n",
       "</style><div class='table-result-container'><table class='table-result'><thead style='background-color: white'><tr><th>a</th><th>b</th></tr></thead><tbody><tr><td>12</td><td>12</td></tr></tbody></table></div>"
      ]
     },
     "metadata": {
      "application/vnd.databricks.v1+output": {
       "addedWidgets": {},
       "aggData": [],
       "aggError": "",
       "aggOverflow": false,
       "aggSchema": [],
       "aggSeriesLimitReached": false,
       "aggType": "",
       "arguments": {},
       "columnCustomDisplayInfos": {},
       "data": [
        [
         12,
         12
        ]
       ],
       "datasetInfos": [
        {
         "name": "_sqldf",
         "schema": {
          "fields": [
           {
            "metadata": {},
            "name": "a",
            "nullable": false,
            "type": "integer"
           },
           {
            "metadata": {},
            "name": "b",
            "nullable": false,
            "type": "integer"
           }
          ],
          "type": "struct"
         },
         "tableIdentifier": null,
         "typeStr": "pyspark.sql.connect.dataframe.DataFrame"
        }
       ],
       "dbfsResultPath": null,
       "isJsonSchema": true,
       "metadata": {
        "createTempViewForImplicitDf": true,
        "dataframeName": "_sqldf",
        "executionCount": 7
       },
       "overflow": false,
       "plotOptions": {
        "customPlotOptions": {},
        "displayType": "table",
        "pivotAggregation": null,
        "pivotColumns": null,
        "xColumns": null,
        "yColumns": null
       },
       "removedWidgets": [],
       "schema": [
        {
         "metadata": "{}",
         "name": "a",
         "type": "\"integer\""
        },
        {
         "metadata": "{}",
         "name": "b",
         "type": "\"integer\""
        }
       ],
       "type": "table"
      }
     },
     "output_type": "display_data"
    }
   ],
   "source": [
    "%sql\n",
    "DECLARE a INT DEFAULT 0;\n",
    "DECLARE b INT DEFAULT 0;\n",
    "CALL dev_catalog.bronze.calc_sum(5, 7, a, b);  -- a becomes 12, b becomes 12\n",
    "SELECT a, b;"
   ]
  },
  {
   "cell_type": "markdown",
   "metadata": {
    "application/vnd.databricks.v1+cell": {
     "cellMetadata": {},
     "inputWidgets": {},
     "nuid": "872c8133-c894-4545-b3f8-6a8efc1fedbd",
     "showTitle": false,
     "tableResultSettingsMap": {},
     "title": ""
    }
   },
   "source": [
    "### Databricks Sample Stored Procedures - Use Cases Implementations"
   ]
  },
  {
   "cell_type": "markdown",
   "metadata": {
    "application/vnd.databricks.v1+cell": {
     "cellMetadata": {},
     "inputWidgets": {},
     "nuid": "587237be-8cbc-4f43-bcb0-eecbdc20bc20",
     "showTitle": false,
     "tableResultSettingsMap": {},
     "title": ""
    }
   },
   "source": [
    "#### Initialize Data"
   ]
  },
  {
   "cell_type": "code",
   "execution_count": 0,
   "metadata": {
    "application/vnd.databricks.v1+cell": {
     "cellMetadata": {
      "byteLimit": 2048000,
      "implicitDf": true,
      "rowLimit": 10000
     },
     "inputWidgets": {},
     "nuid": "ca22665b-5851-4cc9-91f2-3670a459a1c0",
     "showTitle": false,
     "tableResultSettingsMap": {},
     "title": ""
    }
   },
   "outputs": [
    {
     "output_type": "display_data",
     "data": {
      "text/html": [
       "<style scoped>\n",
       "  .table-result-container {\n",
       "    max-height: 300px;\n",
       "    overflow: auto;\n",
       "  }\n",
       "  table, th, td {\n",
       "    border: 1px solid black;\n",
       "    border-collapse: collapse;\n",
       "  }\n",
       "  th, td {\n",
       "    padding: 5px;\n",
       "  }\n",
       "  th {\n",
       "    text-align: left;\n",
       "  }\n",
       "</style><div class='table-result-container'><table class='table-result'><thead style='background-color: white'><tr><th>num_affected_rows</th><th>num_inserted_rows</th></tr></thead><tbody><tr><td>26</td><td>26</td></tr></tbody></table></div>"
      ]
     },
     "metadata": {
      "application/vnd.databricks.v1+output": {
       "addedWidgets": {},
       "aggData": [],
       "aggError": "",
       "aggOverflow": false,
       "aggSchema": [],
       "aggSeriesLimitReached": false,
       "aggType": "",
       "arguments": {},
       "columnCustomDisplayInfos": {},
       "data": [
        [
         26,
         26
        ]
       ],
       "datasetInfos": [
        {
         "name": "_sqldf",
         "schema": {
          "fields": [
           {
            "metadata": {},
            "name": "num_affected_rows",
            "nullable": true,
            "type": "long"
           },
           {
            "metadata": {},
            "name": "num_inserted_rows",
            "nullable": true,
            "type": "long"
           }
          ],
          "type": "struct"
         },
         "tableIdentifier": null,
         "typeStr": "pyspark.sql.connect.dataframe.DataFrame"
        }
       ],
       "dbfsResultPath": null,
       "isJsonSchema": true,
       "metadata": {
        "createTempViewForImplicitDf": true,
        "dataframeName": "_sqldf",
        "executionCount": 98
       },
       "overflow": false,
       "plotOptions": {
        "customPlotOptions": {},
        "displayType": "table",
        "pivotAggregation": null,
        "pivotColumns": null,
        "xColumns": null,
        "yColumns": null
       },
       "removedWidgets": [],
       "schema": [
        {
         "metadata": "{}",
         "name": "num_affected_rows",
         "type": "\"long\""
        },
        {
         "metadata": "{}",
         "name": "num_inserted_rows",
         "type": "\"long\""
        }
       ],
       "type": "table"
      }
     },
     "output_type": "display_data"
    }
   ],
   "source": [
    "%sql\n",
    "-- Create Table sales\n",
    "CREATE OR REPLACE TABLE dev_catalog.bronze.sales_raw  (\n",
    "  sale_id INT,\n",
    "  sale_date DATE,\n",
    "  product STRING,\n",
    "  region STRING,\n",
    "  amount DOUBLE\n",
    ");\n",
    "\n",
    "-- Insert sample data\n",
    "INSERT INTO dev_catalog.bronze.sales_raw VALUES\n",
    "  (1, '2025-01-15', 'Laptop', 'North', 1200.55),\n",
    "  (2, '2025-01-17', 'Laptop', 'South', 1150.00),\n",
    "  (3, '2025-02-10', 'Mouse', 'North', 20.75),\n",
    "  (4, '2025-02-11', 'Mouse', 'West', 21.25),\n",
    "  (5, '2025-03-05', 'Keyboard', 'North', 35.00),\n",
    "\n",
    "  (6, '2025-03-12', 'Monitor', 'East', 250.00),\n",
    "  (7, '2025-03-20', 'Laptop', 'West', 1185.75),\n",
    "  (8, '2025-03-25', 'Keyboard', 'South', 34.50),\n",
    "\n",
    "  (9, '2025-04-02', 'Mouse', 'East', 19.95),\n",
    "  (10, '2025-04-18', 'Monitor', 'North', 245.00),\n",
    "\n",
    "  (11, '2025-05-05', 'Laptop', 'East', 1225.00),\n",
    "  (12, '2025-05-10', 'Keyboard', 'West', 36.25),\n",
    "  (13, '2025-05-14', 'Mouse', 'South', 22.10),\n",
    "  (14, '2025-05-25', 'Monitor', 'South', 255.75),\n",
    "\n",
    "  (15, '2025-06-02', 'Laptop', 'North', 1199.99),\n",
    "  (16, '2025-06-08', 'Keyboard', 'East', 35.75),\n",
    "  (17, '2025-06-15', 'Monitor', 'West', 248.20),\n",
    "  (18, '2025-06-22', 'Mouse', 'North', 21.10),\n",
    "\n",
    "  (19, '2025-07-03', 'Laptop', 'West', 1170.50),\n",
    "  (20, '2025-07-09', 'Mouse', 'East', 20.40),\n",
    "  (21, '2025-07-14', 'Monitor', 'North', 249.99),\n",
    "  (22, '2025-07-27', 'Keyboard', 'South', 34.80),\n",
    "\n",
    "  (23, '2025-08-05', 'Laptop', 'South', 1188.25),\n",
    "  (24, '2025-08-11', 'Mouse', 'West', 19.85),\n",
    "  (25, '2025-08-17', 'Keyboard', 'North', 36.10),\n",
    "  (26, '2025-08-28', 'Monitor', 'East', 251.35);\n",
    "\n"
   ]
  },
  {
   "cell_type": "code",
   "execution_count": 0,
   "metadata": {
    "application/vnd.databricks.v1+cell": {
     "cellMetadata": {
      "byteLimit": 2048000,
      "implicitDf": true,
      "rowLimit": 10000
     },
     "inputWidgets": {},
     "nuid": "da603db8-49e0-4632-830f-fc089aa25ed1",
     "showTitle": false,
     "tableResultSettingsMap": {},
     "title": ""
    }
   },
   "outputs": [],
   "source": [
    "%sql\n",
    "-- Create cleaned & log tables\n",
    "CREATE OR REPLACE TABLE dev_catalog.bronze.sales_cleaned (\n",
    "  sale_id INT,\n",
    "  sale_date DATE,\n",
    "  product STRING,\n",
    "  region STRING,\n",
    "  amount DOUBLE\n",
    ");\n",
    "\n",
    "CREATE OR REPLACE TABLE dev_catalog.bronze.etl_log (\n",
    "  proc_name STRING,\n",
    "  run_timestamp TIMESTAMP,\n",
    "  rows_processed INT\n",
    ");"
   ]
  },
  {
   "cell_type": "markdown",
   "metadata": {
    "application/vnd.databricks.v1+cell": {
     "cellMetadata": {},
     "inputWidgets": {},
     "nuid": "ce59b07e-444c-4f5b-9aa2-9f7852be133c",
     "showTitle": false,
     "tableResultSettingsMap": {},
     "title": ""
    }
   },
   "source": [
    "#### Simple Stored Procedure — Data Cleaning & Logging\n",
    "- Clean and load monthly data from sales_raw → sales_cleaned, then log the operation\n",
    "- Use Case: ETL step that cleans and logs monthly batches."
   ]
  },
  {
   "cell_type": "code",
   "execution_count": 0,
   "metadata": {
    "application/vnd.databricks.v1+cell": {
     "cellMetadata": {
      "byteLimit": 2048000,
      "implicitDf": true,
      "rowLimit": 10000
     },
     "inputWidgets": {},
     "nuid": "3478fc2e-c1bc-49e4-8538-ff5e7591eb98",
     "showTitle": false,
     "tableResultSettingsMap": {},
     "title": ""
    }
   },
   "outputs": [],
   "source": [
    "%sql\n",
    "CREATE OR REPLACE PROCEDURE dev_catalog.bronze.sp_load_monthly_sales(\n",
    "  IN p_year INT, \n",
    "  IN p_month INT\n",
    ")\n",
    "SQL SECURITY INVOKER\n",
    "LANGUAGE SQL\n",
    "AS\n",
    "BEGIN\n",
    "  -- Load only the required month's data\n",
    "  INSERT INTO dev_catalog.bronze.sales_cleaned\n",
    "  SELECT *\n",
    "  FROM dev_catalog.bronze.sales_raw\n",
    "  WHERE YEAR(sale_date) = p_year AND MONTH(sale_date) = p_month;\n",
    "\n",
    "  -- Clean data \n",
    "  UPDATE dev_catalog.bronze.sales_cleaned\n",
    "  SET amount = ROUND(amount, 2);\n",
    "\n",
    "  -- Log run\n",
    "  INSERT INTO dev_catalog.bronze.etl_log\n",
    "  SELECT \n",
    "    'sp_load_monthly_sales' AS procedure_name,\n",
    "    CURRENT_TIMESTAMP() AS run_time,\n",
    "    COUNT(*) AS record_count\n",
    "  FROM dev_catalog.bronze.sales_cleaned\n",
    "  WHERE YEAR(sale_date) = p_year AND MONTH(sale_date) = p_month;\n",
    "END;\n"
   ]
  },
  {
   "cell_type": "code",
   "execution_count": 0,
   "metadata": {
    "application/vnd.databricks.v1+cell": {
     "cellMetadata": {
      "byteLimit": 2048000,
      "implicitDf": true,
      "rowLimit": 10000
     },
     "inputWidgets": {},
     "nuid": "68277400-5cae-4581-9ba0-b60fa18ec577",
     "showTitle": false,
     "tableResultSettingsMap": {},
     "title": ""
    }
   },
   "outputs": [],
   "source": [
    "%sql\n",
    "CALL  dev_catalog.bronze.sp_load_monthly_sales(2025, 8);\n"
   ]
  },
  {
   "cell_type": "code",
   "execution_count": 0,
   "metadata": {
    "application/vnd.databricks.v1+cell": {
     "cellMetadata": {
      "byteLimit": 2048000,
      "implicitDf": true,
      "rowLimit": 10000
     },
     "inputWidgets": {},
     "nuid": "12f29600-6456-4963-abe4-a014b3994859",
     "showTitle": false,
     "tableResultSettingsMap": {},
     "title": ""
    }
   },
   "outputs": [
    {
     "output_type": "display_data",
     "data": {
      "text/html": [
       "<style scoped>\n",
       "  .table-result-container {\n",
       "    max-height: 300px;\n",
       "    overflow: auto;\n",
       "  }\n",
       "  table, th, td {\n",
       "    border: 1px solid black;\n",
       "    border-collapse: collapse;\n",
       "  }\n",
       "  th, td {\n",
       "    padding: 5px;\n",
       "  }\n",
       "  th {\n",
       "    text-align: left;\n",
       "  }\n",
       "</style><div class='table-result-container'><table class='table-result'><thead style='background-color: white'><tr><th>proc_name</th><th>run_timestamp</th><th>rows_processed</th></tr></thead><tbody><tr><td>sp_load_monthly_sales</td><td>2025-10-19T20:08:25.128Z</td><td>4</td></tr><tr><td>sp_load_monthly_sales</td><td>2025-10-19T20:08:40.731Z</td><td>4</td></tr><tr><td>sp_load_monthly_sales</td><td>2025-10-19T20:07:54.044Z</td><td>4</td></tr><tr><td>sp_load_monthly_sales</td><td>2025-10-19T20:08:34.081Z</td><td>4</td></tr><tr><td>sp_load_monthly_sales</td><td>2025-10-19T20:07:47.342Z</td><td>4</td></tr><tr><td>sp_load_monthly_sales</td><td>2025-10-19T20:08:48.103Z</td><td>4</td></tr><tr><td>sp_load_monthly_sales</td><td>2025-10-19T20:08:06.838Z</td><td>2</td></tr><tr><td>sp_load_monthly_sales</td><td>2025-10-19T20:08:00.736Z</td><td>5</td></tr><tr><td>sp_load_monthly_sales</td><td>2025-10-19T20:08:16.495Z</td><td>4</td></tr></tbody></table></div>"
      ]
     },
     "metadata": {
      "application/vnd.databricks.v1+output": {
       "addedWidgets": {},
       "aggData": [],
       "aggError": "",
       "aggOverflow": false,
       "aggSchema": [],
       "aggSeriesLimitReached": false,
       "aggType": "",
       "arguments": {},
       "columnCustomDisplayInfos": {},
       "data": [
        [
         "sp_load_monthly_sales",
         "2025-10-19T20:08:25.128Z",
         4
        ],
        [
         "sp_load_monthly_sales",
         "2025-10-19T20:08:40.731Z",
         4
        ],
        [
         "sp_load_monthly_sales",
         "2025-10-19T20:07:54.044Z",
         4
        ],
        [
         "sp_load_monthly_sales",
         "2025-10-19T20:08:34.081Z",
         4
        ],
        [
         "sp_load_monthly_sales",
         "2025-10-19T20:07:47.342Z",
         4
        ],
        [
         "sp_load_monthly_sales",
         "2025-10-19T20:08:48.103Z",
         4
        ],
        [
         "sp_load_monthly_sales",
         "2025-10-19T20:08:06.838Z",
         2
        ],
        [
         "sp_load_monthly_sales",
         "2025-10-19T20:08:00.736Z",
         5
        ],
        [
         "sp_load_monthly_sales",
         "2025-10-19T20:08:16.495Z",
         4
        ]
       ],
       "datasetInfos": [
        {
         "name": "_sqldf",
         "schema": {
          "fields": [
           {
            "metadata": {},
            "name": "proc_name",
            "nullable": true,
            "type": "string"
           },
           {
            "metadata": {},
            "name": "run_timestamp",
            "nullable": true,
            "type": "timestamp"
           },
           {
            "metadata": {},
            "name": "rows_processed",
            "nullable": true,
            "type": "integer"
           }
          ],
          "type": "struct"
         },
         "tableIdentifier": null,
         "typeStr": "pyspark.sql.connect.dataframe.DataFrame"
        }
       ],
       "dbfsResultPath": null,
       "isJsonSchema": true,
       "metadata": {
        "createTempViewForImplicitDf": true,
        "dataframeName": "_sqldf",
        "executionCount": 118
       },
       "overflow": false,
       "plotOptions": {
        "customPlotOptions": {},
        "displayType": "table",
        "pivotAggregation": null,
        "pivotColumns": null,
        "xColumns": null,
        "yColumns": null
       },
       "removedWidgets": [],
       "schema": [
        {
         "metadata": "{}",
         "name": "proc_name",
         "type": "\"string\""
        },
        {
         "metadata": "{}",
         "name": "run_timestamp",
         "type": "\"timestamp\""
        },
        {
         "metadata": "{}",
         "name": "rows_processed",
         "type": "\"integer\""
        }
       ],
       "type": "table"
      }
     },
     "output_type": "display_data"
    }
   ],
   "source": [
    "%sql\n",
    "select *\n",
    "from dev_catalog.bronze.etl_log"
   ]
  },
  {
   "cell_type": "markdown",
   "metadata": {
    "application/vnd.databricks.v1+cell": {
     "cellMetadata": {},
     "inputWidgets": {},
     "nuid": "cbfcddb2-fcb1-4136-a662-ed406cbe2a25",
     "showTitle": false,
     "tableResultSettingsMap": {},
     "title": ""
    }
   },
   "source": [
    "#### Stored Procedure — Aggregation and Reporting\n",
    "- Generate a monthly sales summary by region and product.\n",
    "- Use Case: Executing analytical summaries inside Databricks SQL dashboards."
   ]
  },
  {
   "cell_type": "code",
   "execution_count": 0,
   "metadata": {
    "application/vnd.databricks.v1+cell": {
     "cellMetadata": {
      "byteLimit": 2048000,
      "implicitDf": true,
      "rowLimit": 10000
     },
     "inputWidgets": {},
     "nuid": "99bec0e4-7bcb-4e8a-8786-f173921ef685",
     "showTitle": false,
     "tableResultSettingsMap": {},
     "title": ""
    }
   },
   "outputs": [
    {
     "output_type": "display_data",
     "data": {
      "application/vnd.databricks.empty-table+json": {
       "directive_name": "NoDirective"
      }
     },
     "metadata": {},
     "output_type": "display_data"
    }
   ],
   "source": [
    "%sql\n",
    "CREATE OR REPLACE PROCEDURE dev_catalog.bronze.sp_monthly_sales_summary(\n",
    "  IN p_year INT\n",
    ")\n",
    "SQL SECURITY INVOKER\n",
    "LANGUAGE SQL\n",
    "AS\n",
    "BEGIN\n",
    "  DECLARE SQL_STMT STRING;\n",
    "  \n",
    "  SET SQL_STMT = '\n",
    "    CREATE OR REPLACE VIEW dev_catalog.bronze.vw_monthly_summary_' || p_year || ' AS\n",
    "    SELECT \n",
    "      YEAR(sale_date) AS year,\n",
    "      MONTH(sale_date) AS month,\n",
    "      region,\n",
    "      product,\n",
    "      ROUND(SUM(amount), 2) AS total_sales,\n",
    "      COUNT(*) AS num_transactions\n",
    "    FROM dev_catalog.bronze.sales_cleaned\n",
    "    WHERE YEAR(sale_date) = ' || p_year || '\n",
    "    GROUP BY year, month, region, product\n",
    "    ORDER BY month, region';\n",
    "  \n",
    "  EXECUTE IMMEDIATE SQL_STMT;\n",
    "END;"
   ]
  },
  {
   "cell_type": "code",
   "execution_count": 0,
   "metadata": {
    "application/vnd.databricks.v1+cell": {
     "cellMetadata": {
      "byteLimit": 2048000,
      "implicitDf": true,
      "rowLimit": 10000
     },
     "inputWidgets": {},
     "nuid": "2783f266-2f7e-455a-9b9d-9c56840a8937",
     "showTitle": false,
     "tableResultSettingsMap": {},
     "title": ""
    }
   },
   "outputs": [
    {
     "output_type": "display_data",
     "data": {
      "application/vnd.databricks.empty-table+json": {
       "directive_name": "NoDirective"
      }
     },
     "metadata": {},
     "output_type": "display_data"
    }
   ],
   "source": [
    "%sql\n",
    "CALL dev_catalog.bronze.sp_monthly_sales_summary(2025);\n"
   ]
  },
  {
   "cell_type": "code",
   "execution_count": 0,
   "metadata": {
    "application/vnd.databricks.v1+cell": {
     "cellMetadata": {
      "byteLimit": 2048000,
      "implicitDf": true,
      "rowLimit": 10000
     },
     "inputWidgets": {},
     "nuid": "6ca2ec6d-4002-44c6-841a-e72ab945fbcd",
     "showTitle": false,
     "tableResultSettingsMap": {},
     "title": ""
    }
   },
   "outputs": [
    {
     "output_type": "display_data",
     "data": {
      "text/html": [
       "<style scoped>\n",
       "  .table-result-container {\n",
       "    max-height: 300px;\n",
       "    overflow: auto;\n",
       "  }\n",
       "  table, th, td {\n",
       "    border: 1px solid black;\n",
       "    border-collapse: collapse;\n",
       "  }\n",
       "  th, td {\n",
       "    padding: 5px;\n",
       "  }\n",
       "  th {\n",
       "    text-align: left;\n",
       "  }\n",
       "</style><div class='table-result-container'><table class='table-result'><thead style='background-color: white'><tr><th>year</th><th>month</th><th>region</th><th>product</th><th>total_sales</th><th>num_transactions</th></tr></thead><tbody><tr><td>2025</td><td>1</td><td>North</td><td>Laptop</td><td>2401.1</td><td>2</td></tr><tr><td>2025</td><td>1</td><td>South</td><td>Laptop</td><td>2300.0</td><td>2</td></tr><tr><td>2025</td><td>2</td><td>North</td><td>Mouse</td><td>41.5</td><td>2</td></tr><tr><td>2025</td><td>2</td><td>West</td><td>Mouse</td><td>42.5</td><td>2</td></tr><tr><td>2025</td><td>3</td><td>East</td><td>Monitor</td><td>250.0</td><td>1</td></tr><tr><td>2025</td><td>3</td><td>North</td><td>Keyboard</td><td>70.0</td><td>2</td></tr><tr><td>2025</td><td>3</td><td>South</td><td>Keyboard</td><td>34.5</td><td>1</td></tr><tr><td>2025</td><td>3</td><td>West</td><td>Laptop</td><td>1185.75</td><td>1</td></tr><tr><td>2025</td><td>4</td><td>East</td><td>Mouse</td><td>39.9</td><td>2</td></tr><tr><td>2025</td><td>4</td><td>North</td><td>Monitor</td><td>490.0</td><td>2</td></tr><tr><td>2025</td><td>5</td><td>East</td><td>Laptop</td><td>1225.0</td><td>1</td></tr><tr><td>2025</td><td>5</td><td>South</td><td>Monitor</td><td>255.75</td><td>1</td></tr><tr><td>2025</td><td>5</td><td>South</td><td>Mouse</td><td>22.1</td><td>1</td></tr><tr><td>2025</td><td>5</td><td>West</td><td>Keyboard</td><td>36.25</td><td>1</td></tr><tr><td>2025</td><td>6</td><td>East</td><td>Keyboard</td><td>35.75</td><td>1</td></tr><tr><td>2025</td><td>6</td><td>North</td><td>Laptop</td><td>1199.99</td><td>1</td></tr><tr><td>2025</td><td>6</td><td>North</td><td>Mouse</td><td>21.1</td><td>1</td></tr><tr><td>2025</td><td>6</td><td>West</td><td>Monitor</td><td>248.2</td><td>1</td></tr><tr><td>2025</td><td>7</td><td>East</td><td>Mouse</td><td>20.4</td><td>1</td></tr><tr><td>2025</td><td>7</td><td>North</td><td>Monitor</td><td>249.99</td><td>1</td></tr><tr><td>2025</td><td>7</td><td>South</td><td>Keyboard</td><td>34.8</td><td>1</td></tr><tr><td>2025</td><td>7</td><td>West</td><td>Laptop</td><td>1170.5</td><td>1</td></tr><tr><td>2025</td><td>8</td><td>East</td><td>Monitor</td><td>251.35</td><td>1</td></tr><tr><td>2025</td><td>8</td><td>North</td><td>Keyboard</td><td>36.1</td><td>1</td></tr><tr><td>2025</td><td>8</td><td>South</td><td>Laptop</td><td>1188.25</td><td>1</td></tr><tr><td>2025</td><td>8</td><td>West</td><td>Mouse</td><td>19.85</td><td>1</td></tr></tbody></table></div>"
      ]
     },
     "metadata": {
      "application/vnd.databricks.v1+output": {
       "addedWidgets": {},
       "aggData": [],
       "aggError": "",
       "aggOverflow": false,
       "aggSchema": [],
       "aggSeriesLimitReached": false,
       "aggType": "",
       "arguments": {},
       "columnCustomDisplayInfos": {},
       "data": [
        [
         2025,
         1,
         "North",
         "Laptop",
         2401.1,
         2
        ],
        [
         2025,
         1,
         "South",
         "Laptop",
         2300.0,
         2
        ],
        [
         2025,
         2,
         "North",
         "Mouse",
         41.5,
         2
        ],
        [
         2025,
         2,
         "West",
         "Mouse",
         42.5,
         2
        ],
        [
         2025,
         3,
         "East",
         "Monitor",
         250.0,
         1
        ],
        [
         2025,
         3,
         "North",
         "Keyboard",
         70.0,
         2
        ],
        [
         2025,
         3,
         "South",
         "Keyboard",
         34.5,
         1
        ],
        [
         2025,
         3,
         "West",
         "Laptop",
         1185.75,
         1
        ],
        [
         2025,
         4,
         "East",
         "Mouse",
         39.9,
         2
        ],
        [
         2025,
         4,
         "North",
         "Monitor",
         490.0,
         2
        ],
        [
         2025,
         5,
         "East",
         "Laptop",
         1225.0,
         1
        ],
        [
         2025,
         5,
         "South",
         "Monitor",
         255.75,
         1
        ],
        [
         2025,
         5,
         "South",
         "Mouse",
         22.1,
         1
        ],
        [
         2025,
         5,
         "West",
         "Keyboard",
         36.25,
         1
        ],
        [
         2025,
         6,
         "East",
         "Keyboard",
         35.75,
         1
        ],
        [
         2025,
         6,
         "North",
         "Laptop",
         1199.99,
         1
        ],
        [
         2025,
         6,
         "North",
         "Mouse",
         21.1,
         1
        ],
        [
         2025,
         6,
         "West",
         "Monitor",
         248.2,
         1
        ],
        [
         2025,
         7,
         "East",
         "Mouse",
         20.4,
         1
        ],
        [
         2025,
         7,
         "North",
         "Monitor",
         249.99,
         1
        ],
        [
         2025,
         7,
         "South",
         "Keyboard",
         34.8,
         1
        ],
        [
         2025,
         7,
         "West",
         "Laptop",
         1170.5,
         1
        ],
        [
         2025,
         8,
         "East",
         "Monitor",
         251.35,
         1
        ],
        [
         2025,
         8,
         "North",
         "Keyboard",
         36.1,
         1
        ],
        [
         2025,
         8,
         "South",
         "Laptop",
         1188.25,
         1
        ],
        [
         2025,
         8,
         "West",
         "Mouse",
         19.85,
         1
        ]
       ],
       "datasetInfos": [
        {
         "name": "_sqldf",
         "schema": {
          "fields": [
           {
            "metadata": {},
            "name": "year",
            "nullable": true,
            "type": "integer"
           },
           {
            "metadata": {},
            "name": "month",
            "nullable": true,
            "type": "integer"
           },
           {
            "metadata": {},
            "name": "region",
            "nullable": true,
            "type": "string"
           },
           {
            "metadata": {},
            "name": "product",
            "nullable": true,
            "type": "string"
           },
           {
            "metadata": {},
            "name": "total_sales",
            "nullable": true,
            "type": "double"
           },
           {
            "metadata": {},
            "name": "num_transactions",
            "nullable": false,
            "type": "long"
           }
          ],
          "type": "struct"
         },
         "tableIdentifier": null,
         "typeStr": "pyspark.sql.connect.dataframe.DataFrame"
        }
       ],
       "dbfsResultPath": null,
       "isJsonSchema": true,
       "metadata": {
        "createTempViewForImplicitDf": true,
        "dataframeName": "_sqldf",
        "executionCount": 5
       },
       "overflow": false,
       "plotOptions": {
        "customPlotOptions": {},
        "displayType": "table",
        "pivotAggregation": null,
        "pivotColumns": null,
        "xColumns": null,
        "yColumns": null
       },
       "removedWidgets": [],
       "schema": [
        {
         "metadata": "{}",
         "name": "year",
         "type": "\"integer\""
        },
        {
         "metadata": "{}",
         "name": "month",
         "type": "\"integer\""
        },
        {
         "metadata": "{}",
         "name": "region",
         "type": "\"string\""
        },
        {
         "metadata": "{}",
         "name": "product",
         "type": "\"string\""
        },
        {
         "metadata": "{}",
         "name": "total_sales",
         "type": "\"double\""
        },
        {
         "metadata": "{}",
         "name": "num_transactions",
         "type": "\"long\""
        }
       ],
       "type": "table"
      }
     },
     "output_type": "display_data"
    }
   ],
   "source": [
    "%sql\n",
    "select * from dev_catalog.bronze.vw_monthly_summary_2025"
   ]
  },
  {
   "cell_type": "markdown",
   "metadata": {
    "application/vnd.databricks.v1+cell": {
     "cellMetadata": {},
     "inputWidgets": {},
     "nuid": "59351093-2c40-46a4-864c-ab25de5e8416",
     "showTitle": false,
     "tableResultSettingsMap": {},
     "title": ""
    }
   },
   "source": [
    "#### Stored Procedure — Dynamic Pivot Query\n",
    "- Create a dynamic pivot report where months become columns.\n",
    "- When month columns vary year-to-year — used in dynamic reporting dashboards."
   ]
  },
  {
   "cell_type": "code",
   "execution_count": 0,
   "metadata": {
    "application/vnd.databricks.v1+cell": {
     "cellMetadata": {
      "byteLimit": 2048000,
      "implicitDf": true,
      "rowLimit": 10000
     },
     "inputWidgets": {},
     "nuid": "38e5937b-38f3-4b66-8fd8-2ce117e2dea7",
     "showTitle": false,
     "tableResultSettingsMap": {},
     "title": ""
    }
   },
   "outputs": [],
   "source": [
    "%sql\n",
    "CREATE OR REPLACE PROCEDURE dev_catalog.bronze.sp_sales_pivot(\n",
    "  IN p_year INT\n",
    ")\n",
    "SQL SECURITY INVOKER\n",
    "LANGUAGE SQL\n",
    "AS\n",
    "BEGIN\n",
    "  DECLARE month_list STRING;\n",
    "  DECLARE pivot_query STRING;\n",
    "\n",
    "  -- Build comma-separated month list dynamically\n",
    "  SET month_list = (\n",
    "    SELECT LISTAGG(DISTINCT CONCAT('\\'', DATE_FORMAT(sale_date, 'MMMM'), '\\''), ', ')\n",
    "    FROM dev_catalog.bronze.sales_cleaned \n",
    "    WHERE YEAR(sale_date) = p_year\n",
    "  );\n",
    "\n",
    "  -- Build dynamic pivot SQL\n",
    "  SET pivot_query = '\n",
    "    SELECT * FROM (\n",
    "      SELECT \n",
    "        region, \n",
    "        product,\n",
    "        DATE_FORMAT(sale_date, \"MMMM\") as month,\n",
    "        amount\n",
    "      FROM dev_catalog.bronze.sales_cleaned \n",
    "      WHERE YEAR(sale_date) = ' || p_year || '\n",
    "    )\n",
    "    PIVOT (\n",
    "      SUM(amount) FOR month IN (' || month_list || ')\n",
    "    )\n",
    "    ORDER BY region, product\n",
    "  ';\n",
    "\n",
    "  -- Execute it\n",
    "  EXECUTE IMMEDIATE pivot_query;\n",
    "END;\n"
   ]
  },
  {
   "cell_type": "code",
   "execution_count": 0,
   "metadata": {
    "application/vnd.databricks.v1+cell": {
     "cellMetadata": {
      "byteLimit": 2048000,
      "implicitDf": true,
      "rowLimit": 10000
     },
     "inputWidgets": {},
     "nuid": "136fcbcf-d55a-4341-9905-feb5fbb68bbb",
     "showTitle": false,
     "tableResultSettingsMap": {},
     "title": ""
    }
   },
   "outputs": [
    {
     "output_type": "display_data",
     "data": {
      "text/html": [
       "<style scoped>\n",
       "  .table-result-container {\n",
       "    max-height: 300px;\n",
       "    overflow: auto;\n",
       "  }\n",
       "  table, th, td {\n",
       "    border: 1px solid black;\n",
       "    border-collapse: collapse;\n",
       "  }\n",
       "  th, td {\n",
       "    padding: 5px;\n",
       "  }\n",
       "  th {\n",
       "    text-align: left;\n",
       "  }\n",
       "</style><div class='table-result-container'><table class='table-result'><thead style='background-color: white'><tr><th>region</th><th>product</th><th>June</th><th>April</th><th>May</th><th>January</th><th>February</th><th>March</th><th>July</th><th>August</th></tr></thead><tbody><tr><td>East</td><td>Keyboard</td><td>35.75</td><td>null</td><td>null</td><td>null</td><td>null</td><td>null</td><td>null</td><td>null</td></tr><tr><td>East</td><td>Laptop</td><td>null</td><td>null</td><td>1225.0</td><td>null</td><td>null</td><td>null</td><td>null</td><td>null</td></tr><tr><td>East</td><td>Monitor</td><td>null</td><td>null</td><td>null</td><td>null</td><td>null</td><td>250.0</td><td>null</td><td>251.35</td></tr><tr><td>East</td><td>Mouse</td><td>null</td><td>39.9</td><td>null</td><td>null</td><td>null</td><td>null</td><td>20.4</td><td>null</td></tr><tr><td>North</td><td>Keyboard</td><td>null</td><td>null</td><td>null</td><td>null</td><td>null</td><td>70.0</td><td>null</td><td>36.1</td></tr><tr><td>North</td><td>Laptop</td><td>1199.99</td><td>null</td><td>null</td><td>2401.1</td><td>null</td><td>null</td><td>null</td><td>null</td></tr><tr><td>North</td><td>Monitor</td><td>null</td><td>490.0</td><td>null</td><td>null</td><td>null</td><td>null</td><td>249.99</td><td>null</td></tr><tr><td>North</td><td>Mouse</td><td>21.1</td><td>null</td><td>null</td><td>null</td><td>41.5</td><td>null</td><td>null</td><td>null</td></tr><tr><td>South</td><td>Keyboard</td><td>null</td><td>null</td><td>null</td><td>null</td><td>null</td><td>34.5</td><td>34.8</td><td>null</td></tr><tr><td>South</td><td>Laptop</td><td>null</td><td>null</td><td>null</td><td>2300.0</td><td>null</td><td>null</td><td>null</td><td>1188.25</td></tr><tr><td>South</td><td>Monitor</td><td>null</td><td>null</td><td>255.75</td><td>null</td><td>null</td><td>null</td><td>null</td><td>null</td></tr><tr><td>South</td><td>Mouse</td><td>null</td><td>null</td><td>22.1</td><td>null</td><td>null</td><td>null</td><td>null</td><td>null</td></tr><tr><td>West</td><td>Keyboard</td><td>null</td><td>null</td><td>36.25</td><td>null</td><td>null</td><td>null</td><td>null</td><td>null</td></tr><tr><td>West</td><td>Laptop</td><td>null</td><td>null</td><td>null</td><td>null</td><td>null</td><td>1185.75</td><td>1170.5</td><td>null</td></tr><tr><td>West</td><td>Monitor</td><td>248.2</td><td>null</td><td>null</td><td>null</td><td>null</td><td>null</td><td>null</td><td>null</td></tr><tr><td>West</td><td>Mouse</td><td>null</td><td>null</td><td>null</td><td>null</td><td>42.5</td><td>null</td><td>null</td><td>19.85</td></tr></tbody></table></div>"
      ]
     },
     "metadata": {
      "application/vnd.databricks.v1+output": {
       "addedWidgets": {},
       "aggData": [],
       "aggError": "",
       "aggOverflow": false,
       "aggSchema": [],
       "aggSeriesLimitReached": false,
       "aggType": "",
       "arguments": {},
       "columnCustomDisplayInfos": {},
       "data": [
        [
         "East",
         "Keyboard",
         35.75,
         null,
         null,
         null,
         null,
         null,
         null,
         null
        ],
        [
         "East",
         "Laptop",
         null,
         null,
         1225.0,
         null,
         null,
         null,
         null,
         null
        ],
        [
         "East",
         "Monitor",
         null,
         null,
         null,
         null,
         null,
         250.0,
         null,
         251.35
        ],
        [
         "East",
         "Mouse",
         null,
         39.9,
         null,
         null,
         null,
         null,
         20.4,
         null
        ],
        [
         "North",
         "Keyboard",
         null,
         null,
         null,
         null,
         null,
         70.0,
         null,
         36.1
        ],
        [
         "North",
         "Laptop",
         1199.99,
         null,
         null,
         2401.1,
         null,
         null,
         null,
         null
        ],
        [
         "North",
         "Monitor",
         null,
         490.0,
         null,
         null,
         null,
         null,
         249.99,
         null
        ],
        [
         "North",
         "Mouse",
         21.1,
         null,
         null,
         null,
         41.5,
         null,
         null,
         null
        ],
        [
         "South",
         "Keyboard",
         null,
         null,
         null,
         null,
         null,
         34.5,
         34.8,
         null
        ],
        [
         "South",
         "Laptop",
         null,
         null,
         null,
         2300.0,
         null,
         null,
         null,
         1188.25
        ],
        [
         "South",
         "Monitor",
         null,
         null,
         255.75,
         null,
         null,
         null,
         null,
         null
        ],
        [
         "South",
         "Mouse",
         null,
         null,
         22.1,
         null,
         null,
         null,
         null,
         null
        ],
        [
         "West",
         "Keyboard",
         null,
         null,
         36.25,
         null,
         null,
         null,
         null,
         null
        ],
        [
         "West",
         "Laptop",
         null,
         null,
         null,
         null,
         null,
         1185.75,
         1170.5,
         null
        ],
        [
         "West",
         "Monitor",
         248.2,
         null,
         null,
         null,
         null,
         null,
         null,
         null
        ],
        [
         "West",
         "Mouse",
         null,
         null,
         null,
         null,
         42.5,
         null,
         null,
         19.85
        ]
       ],
       "datasetInfos": [
        {
         "name": "_sqldf",
         "schema": {
          "fields": [
           {
            "metadata": {},
            "name": "region",
            "nullable": true,
            "type": "string"
           },
           {
            "metadata": {},
            "name": "product",
            "nullable": true,
            "type": "string"
           },
           {
            "metadata": {},
            "name": "June",
            "nullable": true,
            "type": "double"
           },
           {
            "metadata": {},
            "name": "April",
            "nullable": true,
            "type": "double"
           },
           {
            "metadata": {},
            "name": "May",
            "nullable": true,
            "type": "double"
           },
           {
            "metadata": {},
            "name": "January",
            "nullable": true,
            "type": "double"
           },
           {
            "metadata": {},
            "name": "February",
            "nullable": true,
            "type": "double"
           },
           {
            "metadata": {},
            "name": "March",
            "nullable": true,
            "type": "double"
           },
           {
            "metadata": {},
            "name": "July",
            "nullable": true,
            "type": "double"
           },
           {
            "metadata": {},
            "name": "August",
            "nullable": true,
            "type": "double"
           }
          ],
          "type": "struct"
         },
         "tableIdentifier": null,
         "typeStr": "pyspark.sql.connect.dataframe.DataFrame"
        }
       ],
       "dbfsResultPath": null,
       "isJsonSchema": true,
       "metadata": {
        "createTempViewForImplicitDf": true,
        "dataframeName": "_sqldf",
        "executionCount": 16
       },
       "overflow": false,
       "plotOptions": {
        "customPlotOptions": {},
        "displayType": "table",
        "pivotAggregation": null,
        "pivotColumns": null,
        "xColumns": null,
        "yColumns": null
       },
       "removedWidgets": [],
       "schema": [
        {
         "metadata": "{}",
         "name": "region",
         "type": "\"string\""
        },
        {
         "metadata": "{}",
         "name": "product",
         "type": "\"string\""
        },
        {
         "metadata": "{}",
         "name": "June",
         "type": "\"double\""
        },
        {
         "metadata": "{}",
         "name": "April",
         "type": "\"double\""
        },
        {
         "metadata": "{}",
         "name": "May",
         "type": "\"double\""
        },
        {
         "metadata": "{}",
         "name": "January",
         "type": "\"double\""
        },
        {
         "metadata": "{}",
         "name": "February",
         "type": "\"double\""
        },
        {
         "metadata": "{}",
         "name": "March",
         "type": "\"double\""
        },
        {
         "metadata": "{}",
         "name": "July",
         "type": "\"double\""
        },
        {
         "metadata": "{}",
         "name": "August",
         "type": "\"double\""
        }
       ],
       "type": "table"
      }
     },
     "output_type": "display_data"
    }
   ],
   "source": [
    "%sql\n",
    "CALL dev_catalog.bronze.sp_sales_pivot(2025);"
   ]
  },
  {
   "cell_type": "markdown",
   "metadata": {
    "application/vnd.databricks.v1+cell": {
     "cellMetadata": {},
     "inputWidgets": {},
     "nuid": "e6cd1249-aa76-4de1-9e42-0b9fe67b90e4",
     "showTitle": false,
     "tableResultSettingsMap": {},
     "title": ""
    }
   },
   "source": [
    "#### Data Engineering SP — Parameterized ETL Job with Logging\n",
    "- End-to-end data refresh and audit tracking.\n",
    "- A production-ready stored procedure that performs all ETL steps and logs outcomes."
   ]
  },
  {
   "cell_type": "code",
   "execution_count": 0,
   "metadata": {
    "application/vnd.databricks.v1+cell": {
     "cellMetadata": {
      "byteLimit": 2048000,
      "implicitDf": true,
      "rowLimit": 10000
     },
     "inputWidgets": {},
     "nuid": "88f6e0bb-3b31-4b2c-a798-23684fcff1c7",
     "showTitle": false,
     "tableResultSettingsMap": {},
     "title": ""
    }
   },
   "outputs": [],
   "source": [
    "%sql\n",
    "CREATE OR REPLACE PROCEDURE dev_catalog.bronze.sp_etl_refresh(\n",
    "  IN p_year INT, \n",
    "  IN p_month INT)\n",
    "SQL SECURITY INVOKER\n",
    "LANGUAGE SQL\n",
    "AS\n",
    "BEGIN\n",
    "  DECLARE rows_loaded INT;\n",
    "\n",
    "  -- Purge old month data\n",
    "  DELETE FROM dev_catalog.bronze.sales_cleaned WHERE YEAR(sale_date)=p_year AND MONTH(sale_date)=p_month;\n",
    "\n",
    "  -- Load data from raw\n",
    "  INSERT INTO dev_catalog.bronze.sales_cleaned\n",
    "  SELECT * FROM dev_catalog.bronze.sales_raw\n",
    "  WHERE YEAR(sale_date)=p_year AND MONTH(sale_date)=p_month;\n",
    "\n",
    "  -- Capture row count\n",
    "  SET rows_loaded = (\n",
    "    SELECT COUNT(*) \n",
    "    FROM dev_catalog.bronze.sales_cleaned \n",
    "    WHERE YEAR(sale_date)=p_year AND MONTH(sale_date)=p_month\n",
    "    );\n",
    "\n",
    "  -- Log operation\n",
    "  INSERT INTO dev_catalog.bronze.etl_log VALUES ('sp_etl_refresh', CURRENT_TIMESTAMP(), rows_loaded);\n",
    "\n",
    "  -- Output result\n",
    "  SELECT CONCAT('ETL completed successfully. Rows loaded: ', rows_loaded) AS message;\n",
    "END;\n"
   ]
  },
  {
   "cell_type": "code",
   "execution_count": 0,
   "metadata": {
    "application/vnd.databricks.v1+cell": {
     "cellMetadata": {
      "byteLimit": 2048000,
      "implicitDf": true,
      "rowLimit": 10000
     },
     "inputWidgets": {},
     "nuid": "b2b3c34e-fc04-4c9e-8fdd-ce51c1bd0fde",
     "showTitle": false,
     "tableResultSettingsMap": {
      "0": {
       "dataGridStateBlob": "{\"version\":1,\"tableState\":{\"columnPinning\":{\"left\":[\"#row_number#\"],\"right\":[]},\"columnSizing\":{\"message\":344},\"columnVisibility\":{}},\"settings\":{\"columns\":{}},\"syncTimestamp\":1760930630931}",
       "filterBlob": null,
       "queryPlanFiltersBlob": null,
       "tableResultIndex": 0
      }
     },
     "title": ""
    }
   },
   "outputs": [
    {
     "output_type": "display_data",
     "data": {
      "text/html": [
       "<style scoped>\n",
       "  .table-result-container {\n",
       "    max-height: 300px;\n",
       "    overflow: auto;\n",
       "  }\n",
       "  table, th, td {\n",
       "    border: 1px solid black;\n",
       "    border-collapse: collapse;\n",
       "  }\n",
       "  th, td {\n",
       "    padding: 5px;\n",
       "  }\n",
       "  th {\n",
       "    text-align: left;\n",
       "  }\n",
       "</style><div class='table-result-container'><table class='table-result'><thead style='background-color: white'><tr><th>message</th></tr></thead><tbody><tr><td>ETL completed successfully. Rows loaded: 5</td></tr></tbody></table></div>"
      ]
     },
     "metadata": {
      "application/vnd.databricks.v1+output": {
       "addedWidgets": {},
       "aggData": [],
       "aggError": "",
       "aggOverflow": false,
       "aggSchema": [],
       "aggSeriesLimitReached": false,
       "aggType": "",
       "arguments": {},
       "columnCustomDisplayInfos": {},
       "data": [
        [
         "ETL completed successfully. Rows loaded: 5"
        ]
       ],
       "datasetInfos": [
        {
         "name": "_sqldf",
         "schema": {
          "fields": [
           {
            "metadata": {},
            "name": "message",
            "nullable": false,
            "type": "string"
           }
          ],
          "type": "struct"
         },
         "tableIdentifier": null,
         "typeStr": "pyspark.sql.connect.dataframe.DataFrame"
        }
       ],
       "dbfsResultPath": null,
       "isJsonSchema": true,
       "metadata": {
        "createTempViewForImplicitDf": true,
        "dataframeName": "_sqldf",
        "executionCount": 24
       },
       "overflow": false,
       "plotOptions": {
        "customPlotOptions": {},
        "displayType": "table",
        "pivotAggregation": null,
        "pivotColumns": null,
        "xColumns": null,
        "yColumns": null
       },
       "removedWidgets": [],
       "schema": [
        {
         "metadata": "{}",
         "name": "message",
         "type": "\"string\""
        }
       ],
       "type": "table"
      }
     },
     "output_type": "display_data"
    }
   ],
   "source": [
    "%sql\n",
    "CALL dev_catalog.bronze.sp_etl_refresh(2025, 3);"
   ]
  }
 ],
 "metadata": {
  "application/vnd.databricks.v1+notebook": {
   "computePreferences": null,
   "dashboards": [],
   "environmentMetadata": {
    "base_environment": "",
    "environment_version": "4"
   },
   "inputWidgetPreferences": null,
   "language": "python",
   "notebookMetadata": {
    "mostRecentlyExecutedCommandWithImplicitDF": {
     "commandId": 5472222813965186,
     "dataframes": [
      "_sqldf"
     ]
    },
    "pythonIndentUnit": 4
   },
   "notebookName": "Workbook SP",
   "widgets": {}
  },
  "language_info": {
   "name": "python"
  }
 },
 "nbformat": 4,
 "nbformat_minor": 0
}